{
 "cells": [
  {
   "cell_type": "markdown",
   "metadata": {},
   "source": [
    "# Traveling Salesman Problem"
   ]
  },
  {
   "cell_type": "markdown",
   "metadata": {},
   "source": [
    "We are given a [complete graph](https://en.wikipedia.org/wiki/Complete_graph) which means that every pair of distinct vertices is connected by a unique edge. Each edge has traveling cost associated with it. We need to find a shortest route that goes throught all the nodes and comes back to the original node."
   ]
  },
  {
   "cell_type": "markdown",
   "metadata": {},
   "source": [
    "## Representation"
   ]
  },
  {
   "cell_type": "markdown",
   "metadata": {},
   "source": [
    "We can represent traveling costs as a simple matrix."
   ]
  },
  {
   "cell_type": "code",
   "execution_count": 1,
   "metadata": {},
   "outputs": [],
   "source": [
    "i = 'i'\n",
    "m =  [\n",
    "    [i, 3, 1, 8],\n",
    "    [3, i, 4, 4],\n",
    "    [1, 4, i, 7],\n",
    "    [8, 4, 7, i],\n",
    "]"
   ]
  },
  {
   "cell_type": "markdown",
   "metadata": {},
   "source": [
    "This represents 4 nodes (0 through 3) where cost of traveling from 0 to 3 is"
   ]
  },
  {
   "cell_type": "code",
   "execution_count": 2,
   "metadata": {},
   "outputs": [
    {
     "data": {
      "text/plain": [
       "8"
      ]
     },
     "execution_count": 2,
     "metadata": {},
     "output_type": "execute_result"
    }
   ],
   "source": [
    "m[0][3]"
   ]
  },
  {
   "cell_type": "markdown",
   "metadata": {},
   "source": [
    "## Brute force solution"
   ]
  },
  {
   "cell_type": "code",
   "execution_count": 3,
   "metadata": {},
   "outputs": [],
   "source": [
    "from itertools import permutations\n",
    "\n",
    "def total_cost(matrix, route):\n",
    "    # we are going from node a to node b in each step\n",
    "    a = list(route)\n",
    "    b = a[1:] + [a[0]]\n",
    "\n",
    "    # calculate the route cost\n",
    "    cost = 0\n",
    "    for ii, jj in zip(a, b):\n",
    "        cost += matrix[ii][jj]\n",
    "    return cost\n",
    "\n",
    "\n",
    "def brute_force(matrix):\n",
    "    current_min = pow(10, 10) # should be at least bigger than min route\n",
    "    current_route = []\n",
    "    for route in permutations(range(len(matrix))):\n",
    "        route_cost = total_cost(matrix, route)\n",
    "        # check if we got new min route\n",
    "        if route_cost < current_min:\n",
    "            current_min = route_cost\n",
    "            current_route = route\n",
    "    \n",
    "    return current_route, current_min"
   ]
  },
  {
   "cell_type": "code",
   "execution_count": 4,
   "metadata": {},
   "outputs": [],
   "source": [
    "route, distance = brute_force(m)"
   ]
  },
  {
   "cell_type": "code",
   "execution_count": 5,
   "metadata": {},
   "outputs": [
    {
     "name": "stdout",
     "output_type": "stream",
     "text": [
      "Found route: (0, 1, 3, 2) with distance: 15\n"
     ]
    }
   ],
   "source": [
    "print('Found route:', route, 'with distance:', distance)"
   ]
  },
  {
   "cell_type": "markdown",
   "metadata": {},
   "source": [
    "## Greedy solution\n",
    "What if we just always pick the shortest distance from all available routes in a current node. We start with first node and pick the cheapest node that we haven't picked yet."
   ]
  },
  {
   "cell_type": "code",
   "execution_count": 6,
   "metadata": {},
   "outputs": [],
   "source": [
    "def get_min_node(nodes, visited_set):\n",
    "    min_cost = pow(10, 10)\n",
    "    node_position = None\n",
    "    for position, cost in enumerate(nodes):\n",
    "        # make sure we haven't visited the node yet, we are not trying to go to\n",
    "        # the same node, and current cost is the minimum that we've seen so far\n",
    "        if position in visited_set or isinstance(cost, str) or cost >= min_cost:\n",
    "            continue\n",
    "\n",
    "        min_cost = cost\n",
    "        node_position = position\n",
    "\n",
    "    return node_position\n",
    "\n",
    "def greedy(matrix, route):\n",
    "    print(route)\n",
    "    current_node = route[-1]\n",
    "    min_node = get_min_node(matrix[current_node], set(route))\n",
    "\n",
    "    if min_node is None:\n",
    "        return route\n",
    "\n",
    "    return greedy(matrix, route + [min_node])\n",
    "    "
   ]
  },
  {
   "cell_type": "code",
   "execution_count": 7,
   "metadata": {},
   "outputs": [
    {
     "name": "stdout",
     "output_type": "stream",
     "text": [
      "[0]\n",
      "[0, 2]\n",
      "[0, 2, 1]\n",
      "[0, 2, 1, 3]\n"
     ]
    }
   ],
   "source": [
    "answer = greedy(m, [0])"
   ]
  },
  {
   "cell_type": "code",
   "execution_count": 8,
   "metadata": {},
   "outputs": [
    {
     "data": {
      "text/plain": [
       "[0, 2, 1, 3]"
      ]
     },
     "execution_count": 8,
     "metadata": {},
     "output_type": "execute_result"
    }
   ],
   "source": [
    "answer"
   ]
  },
  {
   "cell_type": "code",
   "execution_count": 9,
   "metadata": {},
   "outputs": [
    {
     "data": {
      "text/plain": [
       "17"
      ]
     },
     "execution_count": 9,
     "metadata": {},
     "output_type": "execute_result"
    }
   ],
   "source": [
    "total_cost(m, answer)"
   ]
  },
  {
   "cell_type": "markdown",
   "metadata": {},
   "source": [
    "This is not optimal route but its close to brute force answer. The benifit of the algorithm is relative speed O(n<sup>2</sup>) and simplicity."
   ]
  },
  {
   "cell_type": "code",
   "execution_count": 10,
   "metadata": {},
   "outputs": [
    {
     "data": {
      "text/plain": [
       "15"
      ]
     },
     "execution_count": 10,
     "metadata": {},
     "output_type": "execute_result"
    }
   ],
   "source": [
    "total_cost(m, [0, 1, 3, 2]) # route found by brute force"
   ]
  },
  {
   "cell_type": "code",
   "execution_count": 70,
   "metadata": {},
   "outputs": [],
   "source": [
    "i = pow(10, 10)\n",
    "n =  [[i,1,2,2,1], # 1\n",
    "      [1,i,3,4,3], # 2\n",
    "      [2,3,i,1,3], # 3\n",
    "      [2,4,1,i,1], # 4\n",
    "      [1,3,3,1,i] #5\n",
    "]"
   ]
  },
  {
   "cell_type": "code",
   "execution_count": 71,
   "metadata": {},
   "outputs": [
    {
     "name": "stdout",
     "output_type": "stream",
     "text": [
      "[0]\n",
      "[0, 1]\n",
      "[0, 1, 2]\n",
      "[0, 1, 2, 3]\n",
      "[0, 1, 2, 3, 4]\n"
     ]
    }
   ],
   "source": [
    "g = greedy(n, [0])"
   ]
  },
  {
   "cell_type": "code",
   "execution_count": 72,
   "metadata": {},
   "outputs": [
    {
     "data": {
      "text/plain": [
       "[0, 1, 2, 3, 4]"
      ]
     },
     "execution_count": 72,
     "metadata": {},
     "output_type": "execute_result"
    }
   ],
   "source": [
    "g"
   ]
  },
  {
   "cell_type": "code",
   "execution_count": 73,
   "metadata": {},
   "outputs": [
    {
     "data": {
      "text/plain": [
       "7"
      ]
     },
     "execution_count": 73,
     "metadata": {},
     "output_type": "execute_result"
    }
   ],
   "source": [
    "total_cost(n, g)"
   ]
  },
  {
   "cell_type": "code",
   "execution_count": 74,
   "metadata": {},
   "outputs": [
    {
     "data": {
      "text/plain": [
       "((0, 1, 2, 3, 4), 7)"
      ]
     },
     "execution_count": 74,
     "metadata": {},
     "output_type": "execute_result"
    }
   ],
   "source": [
    "brute_force(n)"
   ]
  },
  {
   "cell_type": "markdown",
   "metadata": {},
   "source": [
    "## Branch and Bound"
   ]
  },
  {
   "cell_type": "code",
   "execution_count": 80,
   "metadata": {},
   "outputs": [],
   "source": [
    "def print_matrix(matrix):\n",
    "    for ii in matrix:\n",
    "        new_row = []\n",
    "        for jj in ii:\n",
    "            if jj > 1000:\n",
    "                new_row.append('i')\n",
    "                continue\n",
    "            new_row.append(jj)\n",
    "        print(new_row)"
   ]
  },
  {
   "cell_type": "code",
   "execution_count": 84,
   "metadata": {},
   "outputs": [],
   "source": [
    "def reduse(matrix, a, b):\n",
    "    new_matrix = []\n",
    "    min_ii = min_jj = pow(10, 10)\n",
    "\n",
    "    for n, ii in enumerate(matrix):\n",
    "        new_row = []\n",
    "\n",
    "        for m, jj in enumerate(ii):\n",
    "            if b == n or m == b:\n",
    "                continue\n",
    "            new_row.append(jj)\n",
    "\n",
    "        if new_row:\n",
    "            new_matrix.append(new_row)\n",
    "        \n",
    "\n",
    "    return(new_matrix)\n",
    "            "
   ]
  },
  {
   "cell_type": "code",
   "execution_count": 85,
   "metadata": {
    "scrolled": true
   },
   "outputs": [],
   "source": [
    "redused = reduse(n, 1, 0)"
   ]
  },
  {
   "cell_type": "code",
   "execution_count": 86,
   "metadata": {},
   "outputs": [
    {
     "name": "stdout",
     "output_type": "stream",
     "text": [
      "['i', 3, 4, 3]\n",
      "[3, 'i', 1, 3]\n",
      "[4, 1, 'i', 1]\n",
      "[3, 3, 1, 'i']\n"
     ]
    }
   ],
   "source": [
    "print_matrix(redused)"
   ]
  },
  {
   "cell_type": "code",
   "execution_count": 89,
   "metadata": {},
   "outputs": [],
   "source": [
    "def min_in_row(matrix):\n",
    "    vector = []\n",
    "    for ii in matrix:\n",
    "        min_element = pow(10, 10)\n",
    "        for jj in ii:\n",
    "            if min_element > jj:\n",
    "                min_element = jj\n",
    "        vector.append(min_element)\n",
    "    return vector"
   ]
  },
  {
   "cell_type": "code",
   "execution_count": 91,
   "metadata": {},
   "outputs": [],
   "source": [
    "to_subtruct = min_in_row(redused)"
   ]
  },
  {
   "cell_type": "code",
   "execution_count": 92,
   "metadata": {},
   "outputs": [
    {
     "data": {
      "text/plain": [
       "[3, 1, 1, 1]"
      ]
     },
     "execution_count": 92,
     "metadata": {},
     "output_type": "execute_result"
    }
   ],
   "source": [
    "to_subtruct"
   ]
  },
  {
   "cell_type": "code",
   "execution_count": 96,
   "metadata": {},
   "outputs": [],
   "source": [
    "def subtract(matrix, vector):\n",
    "    new_matrix = []\n",
    "    for n, ii in enumerate(matrix):\n",
    "        new_row = []\n",
    "        for jj in ii:\n",
    "            new_row.append(jj - vector[n])\n",
    "        new_matrix.append(new_row)\n",
    "    return new_matrix"
   ]
  },
  {
   "cell_type": "code",
   "execution_count": 97,
   "metadata": {},
   "outputs": [],
   "source": [
    "redused_and_subtracted = subtract(redused, to_subtruct)"
   ]
  },
  {
   "cell_type": "code",
   "execution_count": 99,
   "metadata": {},
   "outputs": [
    {
     "name": "stdout",
     "output_type": "stream",
     "text": [
      "['i', 0, 1, 0]\n",
      "[2, 'i', 0, 2]\n",
      "[3, 0, 'i', 0]\n",
      "[2, 2, 0, 'i']\n"
     ]
    }
   ],
   "source": [
    "print_matrix(redused_and_subtracted)"
   ]
  },
  {
   "cell_type": "code",
   "execution_count": 112,
   "metadata": {},
   "outputs": [],
   "source": [
    "def min_in_column(matrix):\n",
    "    vector = []\n",
    "    for ii in matrix:\n",
    "        print(ii)"
   ]
  },
  {
   "cell_type": "code",
   "execution_count": 113,
   "metadata": {},
   "outputs": [
    {
     "name": "stdout",
     "output_type": "stream",
     "text": [
      "[9999999997, 0, 1, 0]\n",
      "[2, 9999999999, 0, 2]\n",
      "[3, 0, 9999999999, 0]\n",
      "[2, 2, 0, 9999999999]\n"
     ]
    }
   ],
   "source": [
    "min_in_column(redused_and_subtracted)"
   ]
  },
  {
   "cell_type": "code",
   "execution_count": null,
   "metadata": {},
   "outputs": [],
   "source": []
  }
 ],
 "metadata": {
  "kernelspec": {
   "display_name": "Python 3",
   "language": "python",
   "name": "python3"
  },
  "language_info": {
   "codemirror_mode": {
    "name": "ipython",
    "version": 3
   },
   "file_extension": ".py",
   "mimetype": "text/x-python",
   "name": "python",
   "nbconvert_exporter": "python",
   "pygments_lexer": "ipython3",
   "version": "3.7.1"
  }
 },
 "nbformat": 4,
 "nbformat_minor": 2
}
