{
 "cells": [
  {
   "cell_type": "markdown",
   "metadata": {},
   "source": [
    "# Traveling Salesman Problem"
   ]
  },
  {
   "cell_type": "markdown",
   "metadata": {},
   "source": [
    "We are given a [complete graph](https://en.wikipedia.org/wiki/Complete_graph) which means that every pair of distinct vertices is connected by a unique edge. Each edge has traveling cost associated with it. We need to find a shortest route that goes throught all the nodes and comes back to the original node."
   ]
  },
  {
   "cell_type": "markdown",
   "metadata": {},
   "source": [
    "## Representation"
   ]
  },
  {
   "cell_type": "markdown",
   "metadata": {},
   "source": [
    "We can represent traveling costs as a simple matrix."
   ]
  },
  {
   "cell_type": "code",
   "execution_count": 1,
   "metadata": {},
   "outputs": [],
   "source": [
    "i = 'i'\n",
    "m =  [\n",
    "    [i, 3, 1, 8],\n",
    "    [3, i, 4, 4],\n",
    "    [1, 4, i, 7],\n",
    "    [8, 4, 7, i],\n",
    "]"
   ]
  },
  {
   "cell_type": "markdown",
   "metadata": {},
   "source": [
    "This represents 4 nodes (0 through 3) where cost of traveling from 0 to 3 is"
   ]
  },
  {
   "cell_type": "code",
   "execution_count": 2,
   "metadata": {},
   "outputs": [
    {
     "data": {
      "text/plain": [
       "8"
      ]
     },
     "execution_count": 2,
     "metadata": {},
     "output_type": "execute_result"
    }
   ],
   "source": [
    "m[0][3]"
   ]
  },
  {
   "cell_type": "markdown",
   "metadata": {},
   "source": [
    "## Brute force solution"
   ]
  },
  {
   "cell_type": "code",
   "execution_count": 3,
   "metadata": {},
   "outputs": [],
   "source": [
    "from itertools import permutations\n",
    "\n",
    "\n",
    "def brute_force(matrix):\n",
    "    current_min = pow(10,10) # should be at least bigger than min route\n",
    "    current_route = []\n",
    "    for nodes in permutations(range(len(matrix))):\n",
    "        # we are going from node a to node b in each step\n",
    "        a = list(nodes)\n",
    "        b = a[1:] + [a[0]]\n",
    "\n",
    "        # calculate the route cost\n",
    "        route_cost = 0\n",
    "        for ii, jj in zip(a, b):\n",
    "            route_cost += matrix[ii][jj]\n",
    "\n",
    "        # check if we got new min route\n",
    "        if route_cost < current_min:\n",
    "            current_min = route_cost\n",
    "            current_route = nodes\n",
    "    \n",
    "    return current_route, current_min"
   ]
  },
  {
   "cell_type": "code",
   "execution_count": 4,
   "metadata": {},
   "outputs": [],
   "source": [
    "route, distance = brute_force(m)"
   ]
  },
  {
   "cell_type": "code",
   "execution_count": 5,
   "metadata": {},
   "outputs": [
    {
     "name": "stdout",
     "output_type": "stream",
     "text": [
      "Found route: (0, 1, 3, 2) with distance: 15\n"
     ]
    }
   ],
   "source": [
    "print('Found route:', route, 'with distance:', distance)"
   ]
  }
 ],
 "metadata": {
  "kernelspec": {
   "display_name": "Python 3",
   "language": "python",
   "name": "python3"
  },
  "language_info": {
   "codemirror_mode": {
    "name": "ipython",
    "version": 3
   },
   "file_extension": ".py",
   "mimetype": "text/x-python",
   "name": "python",
   "nbconvert_exporter": "python",
   "pygments_lexer": "ipython3",
   "version": "3.7.1"
  }
 },
 "nbformat": 4,
 "nbformat_minor": 2
}
