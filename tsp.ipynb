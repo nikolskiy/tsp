{
 "cells": [
  {
   "cell_type": "markdown",
   "metadata": {},
   "source": [
    "# Traveling Salesman Problem"
   ]
  },
  {
   "cell_type": "markdown",
   "metadata": {},
   "source": [
    "We are given a [complete graph](https://en.wikipedia.org/wiki/Complete_graph) which means that every pair of distinct vertices is connected by a unique edge. Each edge has traveling cost associated with it. We need to find a shortest route that goes throught all the nodes and comes back to the original node."
   ]
  },
  {
   "cell_type": "markdown",
   "metadata": {},
   "source": [
    "## Representation"
   ]
  },
  {
   "cell_type": "markdown",
   "metadata": {},
   "source": [
    "We can represent traveling costs as a simple matrix."
   ]
  },
  {
   "cell_type": "code",
   "execution_count": 1,
   "metadata": {},
   "outputs": [],
   "source": [
    "i = float('inf')\n",
    "t =  [\n",
    "    [i, 3, 1, 8],\n",
    "    [3, i, 4, 4],\n",
    "    [1, 4, i, 7],\n",
    "    [8, 4, 7, i],\n",
    "]"
   ]
  },
  {
   "cell_type": "markdown",
   "metadata": {},
   "source": [
    "This represents 4 nodes (0 through 3) where cost of traveling from 0 to 3 is"
   ]
  },
  {
   "cell_type": "code",
   "execution_count": 2,
   "metadata": {},
   "outputs": [
    {
     "data": {
      "text/plain": [
       "8"
      ]
     },
     "execution_count": 2,
     "metadata": {},
     "output_type": "execute_result"
    }
   ],
   "source": [
    "t[0][3]"
   ]
  },
  {
   "cell_type": "code",
   "execution_count": 3,
   "metadata": {},
   "outputs": [
    {
     "data": {
      "text/plain": [
       "inf"
      ]
     },
     "execution_count": 3,
     "metadata": {},
     "output_type": "execute_result"
    }
   ],
   "source": [
    "t[1][1]"
   ]
  },
  {
   "cell_type": "markdown",
   "metadata": {},
   "source": [
    "## Brute force solution"
   ]
  },
  {
   "cell_type": "code",
   "execution_count": 95,
   "metadata": {},
   "outputs": [],
   "source": [
    "from itertools import permutations\n",
    "\n",
    "def total_cost(matrix, route, loop=True):\n",
    "    # we are going from node a to node b in each step\n",
    "    a = list(route)\n",
    "    b = a[1:] + [a[0]]\n",
    "\n",
    "    # calculate the route cost\n",
    "    cost = 0\n",
    "    for ii, jj in zip(a, b):\n",
    "        cost += matrix[ii][jj]\n",
    "    if not loop:\n",
    "        # exclude path back to start\n",
    "        cost -= matrix[route[0]][route[-1]]\n",
    "    return cost\n",
    "\n",
    "\n",
    "def brute_force(matrix, start=0, stop=None, loop=True):\n",
    "    if not stop:\n",
    "        stop = len(matrix)\n",
    "    current_min = float('inf')\n",
    "    current_route = []\n",
    "\n",
    "\n",
    "    for route in permutations(range(start, stop)):\n",
    "        route_cost = total_cost(matrix, route, loop)\n",
    "        # check if we got new min route\n",
    "        if route_cost < current_min:\n",
    "            current_min = route_cost\n",
    "            current_route = route\n",
    "    \n",
    "    return list(current_route), current_min"
   ]
  },
  {
   "cell_type": "markdown",
   "metadata": {},
   "source": [
    "## Greedy solution\n",
    "What if we just always pick the shortest distance from all available routes in a current node. We start with first node and pick the cheapest node that we haven't picked yet."
   ]
  },
  {
   "cell_type": "code",
   "execution_count": 5,
   "metadata": {},
   "outputs": [],
   "source": [
    "def get_min_node(nodes, visited_set):\n",
    "    min_cost = pow(10, 10)\n",
    "    node_position = None\n",
    "    for position, cost in enumerate(nodes):\n",
    "        # make sure we haven't visited the node yet, we are not trying to go to\n",
    "        # the same node, and current cost is the minimum that we've seen so far\n",
    "        if position in visited_set or isinstance(cost, str) or cost >= min_cost:\n",
    "            continue\n",
    "\n",
    "        min_cost = cost\n",
    "        node_position = position\n",
    "\n",
    "    return node_position\n",
    "\n",
    "def greedy_recursion(matrix, route):\n",
    "    current_node = route[-1]\n",
    "    min_node = get_min_node(matrix[current_node], set(route))\n",
    "\n",
    "    if min_node is None:\n",
    "        return route\n",
    "\n",
    "    return greedy_recursion(matrix, route + [min_node])\n",
    "\n",
    "def greedy(matrix, route=None):\n",
    "    \"\"\"\n",
    "    It doesn't return an optimal route but its close to brute force answer.\n",
    "    The benifit of the algorithm is relative speed and simplicity.\n",
    "    \"\"\"\n",
    "    result = greedy_recursion(matrix, route or [0])\n",
    "    return result, total_cost(m, result)"
   ]
  },
  {
   "cell_type": "markdown",
   "metadata": {},
   "source": [
    "## Branch and Bound"
   ]
  },
  {
   "cell_type": "markdown",
   "metadata": {},
   "source": [
    "Implementation was inspired by [this](http://galyautdinov.ru/post/zadacha-kommivoyazhera) post."
   ]
  },
  {
   "cell_type": "code",
   "execution_count": 6,
   "metadata": {},
   "outputs": [],
   "source": [
    "from random import randint\n",
    "def random_matrix(n, max_distance=10):\n",
    "    return [[ii == jj and float('inf') or randint(1, max_distance) for ii in range(n)] for jj in range(n)]"
   ]
  },
  {
   "cell_type": "code",
   "execution_count": 7,
   "metadata": {},
   "outputs": [],
   "source": [
    "def copy_matrix(m):\n",
    "    return [[ii for ii in jj] for jj in m]"
   ]
  },
  {
   "cell_type": "code",
   "execution_count": 8,
   "metadata": {},
   "outputs": [],
   "source": [
    "def min_in(matrix, direction='row'):\n",
    "    vector = []\n",
    "    d = range(len(matrix))\n",
    "    for ii in d:\n",
    "        min_element = float('inf')\n",
    "        for jj in d:\n",
    "            # switch between row and column access\n",
    "            item = direction == 'row' and matrix[ii][jj] or matrix[jj][ii]\n",
    "            if min_element > item:\n",
    "                min_element = item\n",
    "        vector.append(min_element)\n",
    "\n",
    "    return vector"
   ]
  },
  {
   "cell_type": "code",
   "execution_count": 9,
   "metadata": {},
   "outputs": [],
   "source": [
    "def subtract(matrix, vector, direction='row'):\n",
    "    d = range(len(matrix))\n",
    "    for ii in d:\n",
    "        if vector[ii] == float('inf'):\n",
    "            continue\n",
    "        for jj in d:\n",
    "            if direction == 'row':\n",
    "                matrix[ii][jj] -= vector[ii]\n",
    "            else:\n",
    "                matrix[jj][ii] -= vector[ii] \n",
    "    return matrix"
   ]
  },
  {
   "cell_type": "code",
   "execution_count": 10,
   "metadata": {},
   "outputs": [],
   "source": [
    "def reduse(matrix):\n",
    "    v1 = min_in(matrix)\n",
    "    redused_rows = subtract(matrix, v1)\n",
    "    v2 = min_in(redused_rows, 'column')\n",
    "    return subtract(redused_rows, v2, 'column')"
   ]
  },
  {
   "cell_type": "code",
   "execution_count": 11,
   "metadata": {},
   "outputs": [],
   "source": [
    "def find_optimal_segment(matrix):\n",
    "    size = range(len(matrix))\n",
    "    max_value = -1\n",
    "    max_ii = max_jj = -1\n",
    "\n",
    "    for ii in size:\n",
    "        for jj in size:\n",
    "            if matrix[ii][jj] != 0:\n",
    "                continue\n",
    "\n",
    "            # calculate max value for cells that have zeros\n",
    "            min_in_row = min([e for pos, e in enumerate(matrix[ii]) if pos != jj])\n",
    "            min_in_column = min([e[jj] for pos, e in enumerate(matrix) if pos != ii])\n",
    "            current_max = min_in_row + min_in_column\n",
    "            if max_value < current_max:\n",
    "                max_value = current_max\n",
    "                max_ii = ii\n",
    "                max_jj = jj\n",
    "\n",
    "    # close the route back\n",
    "    matrix[max_jj][max_ii] = float('inf')\n",
    "\n",
    "    # \"remove\" row and column\n",
    "    for jj in size:\n",
    "        matrix[max_ii][jj] = float('inf')\n",
    "    for ii in size:\n",
    "        matrix[ii][max_jj] = float('inf')\n",
    "\n",
    "    return matrix, max_ii, max_jj\n"
   ]
  },
  {
   "cell_type": "code",
   "execution_count": 12,
   "metadata": {},
   "outputs": [],
   "source": [
    "def branch_and_bound(matrix):\n",
    "    # reduse modifies matrix in place\n",
    "    # so we copy the original in order\n",
    "    # to not mess it up\n",
    "    m = copy_matrix(matrix)\n",
    "\n",
    "    # initialize variables\n",
    "    path_dict = {}\n",
    "    distance = 0\n",
    "    size = range(len(matrix))\n",
    "\n",
    "    # find optimal pairs\n",
    "    for i in size:\n",
    "        redused = reduse(m)\n",
    "        m, a, b = find_optimal_segment(redused)\n",
    "        path_dict[a] = b\n",
    "        distance += matrix[a][b]\n",
    "    \n",
    "    # arrange segments in walking order\n",
    "    path = []\n",
    "    for i in size:\n",
    "        # start with 0 if it is a new path else reassign to second element\n",
    "        a = path and b or i\n",
    "        path.append(a)\n",
    "\n",
    "        b = path_dict[a]\n",
    "\n",
    "    return path, distance"
   ]
  },
  {
   "cell_type": "markdown",
   "metadata": {},
   "source": [
    "## Comparing algorithms"
   ]
  },
  {
   "cell_type": "code",
   "execution_count": 13,
   "metadata": {},
   "outputs": [
    {
     "data": {
      "text/plain": [
       "[[inf, 10, 8, 5, 4],\n",
       " [7, inf, 2, 3, 4],\n",
       " [7, 6, inf, 7, 6],\n",
       " [1, 4, 7, inf, 2],\n",
       " [10, 2, 7, 9, inf]]"
      ]
     },
     "execution_count": 13,
     "metadata": {},
     "output_type": "execute_result"
    }
   ],
   "source": [
    "m = random_matrix(5)\n",
    "m"
   ]
  },
  {
   "cell_type": "code",
   "execution_count": 14,
   "metadata": {},
   "outputs": [
    {
     "data": {
      "text/plain": [
       "([0, 4, 1, 2, 3], 16)"
      ]
     },
     "execution_count": 14,
     "metadata": {},
     "output_type": "execute_result"
    }
   ],
   "source": [
    "branch_and_bound(m)"
   ]
  },
  {
   "cell_type": "code",
   "execution_count": 15,
   "metadata": {},
   "outputs": [
    {
     "data": {
      "text/plain": [
       "([0, 4, 1, 2, 3], 16)"
      ]
     },
     "execution_count": 15,
     "metadata": {},
     "output_type": "execute_result"
    }
   ],
   "source": [
    "brute_force(m)"
   ]
  },
  {
   "cell_type": "code",
   "execution_count": 16,
   "metadata": {},
   "outputs": [
    {
     "data": {
      "text/plain": [
       "([0, 4, 1, 2, 3], 16)"
      ]
     },
     "execution_count": 16,
     "metadata": {},
     "output_type": "execute_result"
    }
   ],
   "source": [
    "greedy(m)"
   ]
  },
  {
   "cell_type": "markdown",
   "metadata": {},
   "source": [
    "## Look ahead"
   ]
  },
  {
   "cell_type": "code",
   "execution_count": 55,
   "metadata": {},
   "outputs": [],
   "source": [
    "test = random_matrix(20)"
   ]
  },
  {
   "cell_type": "code",
   "execution_count": 99,
   "metadata": {},
   "outputs": [],
   "source": [
    "def sub_route_cost(matrix, route, loop=True):\n",
    "    # we are going from node a to node b in each step\n",
    "    a = list(route)\n",
    "    b = a[1:] + [a[0]]\n",
    "\n",
    "    # calculate the route cost\n",
    "    cost = 0\n",
    "    for ii, jj in zip(a, b):\n",
    "        cost += matrix[ii][jj]\n",
    "    if not loop:\n",
    "        # exclude path back to start\n",
    "        cost -= matrix[route[0]][route[-1]]\n",
    "    return cost\n",
    "\n",
    "def look_ahead(matrix, k):\n",
    "    path = []\n",
    "    cost = 0\n",
    "    size = len(matrix)\n",
    "\n",
    "    stop = 0\n",
    "    while True:\n",
    "        start = stop\n",
    "        stop = start + k\n",
    "\n",
    "        if stop > size - 1:\n",
    "            stop = size - 1\n",
    "\n",
    "        if start == stop:\n",
    "            # Nowhere to go from here\n",
    "            cost += matrix[path[0]][path[-1]]\n",
    "            print('route back')\n",
    "            break\n",
    "\n",
    "        if stop - start == 1:\n",
    "            # Only one possible route\n",
    "            path += [stop]\n",
    "            cost += matrix[start][stop]\n",
    "            print('last step')\n",
    "            continue\n",
    "\n",
    "        current_min = float('inf')\n",
    "        current_route = []\n",
    "        for route in permutations(range(start, stop)):\n",
    "            route_cost = sub_route_cost(matrix, route, loop=False)\n",
    "            # check if we got new min route\n",
    "            if route_cost < current_min:\n",
    "                current_min = route_cost\n",
    "                current_route = route\n",
    "\n",
    "        sub_route = list(current_route)\n",
    "        sub_cost = current_min\n",
    "        \n",
    "        path += sub_route\n",
    "        cost += sub_cost\n",
    "\n",
    "    return path, cost"
   ]
  },
  {
   "cell_type": "code",
   "execution_count": 105,
   "metadata": {},
   "outputs": [
    {
     "name": "stdout",
     "output_type": "stream",
     "text": [
      "last step\n",
      "route back\n"
     ]
    },
    {
     "data": {
      "text/plain": [
       "([1, 0, 2, 3, 5, 4, 7, 6, 8, 9, 10, 11, 13, 12, 15, 14, 17, 16, 19], 55)"
      ]
     },
     "execution_count": 105,
     "metadata": {},
     "output_type": "execute_result"
    }
   ],
   "source": [
    "look_ahead(test, 2)"
   ]
  },
  {
   "cell_type": "code",
   "execution_count": 106,
   "metadata": {},
   "outputs": [
    {
     "name": "stdout",
     "output_type": "stream",
     "text": [
      "last step\n",
      "route back\n"
     ]
    },
    {
     "data": {
      "text/plain": [
       "([1, 2, 0, 3, 4, 5, 8, 6, 7, 10, 9, 11, 13, 14, 12, 17, 15, 16, 19], 35)"
      ]
     },
     "execution_count": 106,
     "metadata": {},
     "output_type": "execute_result"
    }
   ],
   "source": [
    "look_ahead(test, 3)"
   ]
  },
  {
   "cell_type": "code",
   "execution_count": 107,
   "metadata": {},
   "outputs": [
    {
     "name": "stdout",
     "output_type": "stream",
     "text": [
      "route back\n"
     ]
    },
    {
     "data": {
      "text/plain": [
       "([1, 2, 0, 4, 3, 9, 6, 8, 5, 7, 13, 11, 10, 14, 12, 17, 18, 15, 16], 38)"
      ]
     },
     "execution_count": 107,
     "metadata": {},
     "output_type": "execute_result"
    }
   ],
   "source": [
    "look_ahead(test, 5)"
   ]
  }
 ],
 "metadata": {
  "kernelspec": {
   "display_name": "Python 3",
   "language": "python",
   "name": "python3"
  },
  "language_info": {
   "codemirror_mode": {
    "name": "ipython",
    "version": 3
   },
   "file_extension": ".py",
   "mimetype": "text/x-python",
   "name": "python",
   "nbconvert_exporter": "python",
   "pygments_lexer": "ipython3",
   "version": "3.7.1"
  }
 },
 "nbformat": 4,
 "nbformat_minor": 2
}
